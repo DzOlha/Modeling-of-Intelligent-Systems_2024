{
 "cells": [
  {
   "cell_type": "markdown",
   "id": "9433595d-fb23-4089-a663-d178c9858ea2",
   "metadata": {},
   "source": [
    "# Задача №1"
   ]
  },
  {
   "cell_type": "code",
   "execution_count": 136,
   "id": "e25bb138-ba01-451e-9323-67f036cd2fbe",
   "metadata": {},
   "outputs": [],
   "source": [
    "# Download data file locally \n",
    "\n",
    "import os\n",
    "import urllib.request\n",
    "\n",
    "DOWNLOAD_ROOT = \"https://github.com/DzOlha/Modeling-of-Intelligent-Systems_2024/raw/main/exam/\"\n",
    "URL_expanded = DOWNLOAD_ROOT + \"Expanded_data_with_more_features.csv\"\n",
    "\n",
    "# downloads the ds_salaries.csv file\n",
    "\n",
    "def fetch_data(url, csv_path):\n",
    "    urllib.request.urlretrieve(url, csv_path)\n",
    "    \n",
    "fetch_data(URL_expanded, \"Expanded_data_with_more_features.csv\")"
   ]
  },
  {
   "cell_type": "code",
   "execution_count": 137,
   "id": "a6dbb397-7b3b-480a-b0c7-57e91e1ebd8a",
   "metadata": {},
   "outputs": [],
   "source": [
    "# Read the data file\n",
    "\n",
    "import pandas as pd\n",
    "\n",
    "def read_data(filename):\n",
    "    data = pd.read_csv(filename)\n",
    "    return data;"
   ]
  },
  {
   "cell_type": "code",
   "execution_count": 138,
   "id": "404f096e-3f44-4fc5-b2fa-4b766acb99cc",
   "metadata": {},
   "outputs": [
    {
     "data": {
      "text/html": [
       "<div>\n",
       "<style scoped>\n",
       "    .dataframe tbody tr th:only-of-type {\n",
       "        vertical-align: middle;\n",
       "    }\n",
       "\n",
       "    .dataframe tbody tr th {\n",
       "        vertical-align: top;\n",
       "    }\n",
       "\n",
       "    .dataframe thead th {\n",
       "        text-align: right;\n",
       "    }\n",
       "</style>\n",
       "<table border=\"1\" class=\"dataframe\">\n",
       "  <thead>\n",
       "    <tr style=\"text-align: right;\">\n",
       "      <th></th>\n",
       "      <th>Unnamed: 0</th>\n",
       "      <th>Gender</th>\n",
       "      <th>EthnicGroup</th>\n",
       "      <th>ParentEduc</th>\n",
       "      <th>LunchType</th>\n",
       "      <th>TestPrep</th>\n",
       "      <th>ParentMaritalStatus</th>\n",
       "      <th>PracticeSport</th>\n",
       "      <th>IsFirstChild</th>\n",
       "      <th>NrSiblings</th>\n",
       "      <th>TransportMeans</th>\n",
       "      <th>WklyStudyHours</th>\n",
       "      <th>MathScore</th>\n",
       "      <th>ReadingScore</th>\n",
       "      <th>WritingScore</th>\n",
       "    </tr>\n",
       "  </thead>\n",
       "  <tbody>\n",
       "    <tr>\n",
       "      <th>0</th>\n",
       "      <td>0</td>\n",
       "      <td>female</td>\n",
       "      <td>NaN</td>\n",
       "      <td>bachelor's degree</td>\n",
       "      <td>standard</td>\n",
       "      <td>none</td>\n",
       "      <td>married</td>\n",
       "      <td>regularly</td>\n",
       "      <td>yes</td>\n",
       "      <td>3.0</td>\n",
       "      <td>school_bus</td>\n",
       "      <td>&lt; 5</td>\n",
       "      <td>71</td>\n",
       "      <td>71</td>\n",
       "      <td>74</td>\n",
       "    </tr>\n",
       "    <tr>\n",
       "      <th>1</th>\n",
       "      <td>1</td>\n",
       "      <td>female</td>\n",
       "      <td>group C</td>\n",
       "      <td>some college</td>\n",
       "      <td>standard</td>\n",
       "      <td>NaN</td>\n",
       "      <td>married</td>\n",
       "      <td>sometimes</td>\n",
       "      <td>yes</td>\n",
       "      <td>0.0</td>\n",
       "      <td>NaN</td>\n",
       "      <td>5 - 10</td>\n",
       "      <td>69</td>\n",
       "      <td>90</td>\n",
       "      <td>88</td>\n",
       "    </tr>\n",
       "    <tr>\n",
       "      <th>2</th>\n",
       "      <td>2</td>\n",
       "      <td>female</td>\n",
       "      <td>group B</td>\n",
       "      <td>master's degree</td>\n",
       "      <td>standard</td>\n",
       "      <td>none</td>\n",
       "      <td>single</td>\n",
       "      <td>sometimes</td>\n",
       "      <td>yes</td>\n",
       "      <td>4.0</td>\n",
       "      <td>school_bus</td>\n",
       "      <td>&lt; 5</td>\n",
       "      <td>87</td>\n",
       "      <td>93</td>\n",
       "      <td>91</td>\n",
       "    </tr>\n",
       "    <tr>\n",
       "      <th>3</th>\n",
       "      <td>3</td>\n",
       "      <td>male</td>\n",
       "      <td>group A</td>\n",
       "      <td>associate's degree</td>\n",
       "      <td>free/reduced</td>\n",
       "      <td>none</td>\n",
       "      <td>married</td>\n",
       "      <td>never</td>\n",
       "      <td>no</td>\n",
       "      <td>1.0</td>\n",
       "      <td>NaN</td>\n",
       "      <td>5 - 10</td>\n",
       "      <td>45</td>\n",
       "      <td>56</td>\n",
       "      <td>42</td>\n",
       "    </tr>\n",
       "    <tr>\n",
       "      <th>4</th>\n",
       "      <td>4</td>\n",
       "      <td>male</td>\n",
       "      <td>group C</td>\n",
       "      <td>some college</td>\n",
       "      <td>standard</td>\n",
       "      <td>none</td>\n",
       "      <td>married</td>\n",
       "      <td>sometimes</td>\n",
       "      <td>yes</td>\n",
       "      <td>0.0</td>\n",
       "      <td>school_bus</td>\n",
       "      <td>5 - 10</td>\n",
       "      <td>76</td>\n",
       "      <td>78</td>\n",
       "      <td>75</td>\n",
       "    </tr>\n",
       "  </tbody>\n",
       "</table>\n",
       "</div>"
      ],
      "text/plain": [
       "   Unnamed: 0  Gender EthnicGroup          ParentEduc     LunchType TestPrep  \\\n",
       "0           0  female         NaN   bachelor's degree      standard     none   \n",
       "1           1  female     group C        some college      standard      NaN   \n",
       "2           2  female     group B     master's degree      standard     none   \n",
       "3           3    male     group A  associate's degree  free/reduced     none   \n",
       "4           4    male     group C        some college      standard     none   \n",
       "\n",
       "  ParentMaritalStatus PracticeSport IsFirstChild  NrSiblings TransportMeans  \\\n",
       "0             married     regularly          yes         3.0     school_bus   \n",
       "1             married     sometimes          yes         0.0            NaN   \n",
       "2              single     sometimes          yes         4.0     school_bus   \n",
       "3             married         never           no         1.0            NaN   \n",
       "4             married     sometimes          yes         0.0     school_bus   \n",
       "\n",
       "  WklyStudyHours  MathScore  ReadingScore  WritingScore  \n",
       "0            < 5         71            71            74  \n",
       "1         5 - 10         69            90            88  \n",
       "2            < 5         87            93            91  \n",
       "3         5 - 10         45            56            42  \n",
       "4         5 - 10         76            78            75  "
      ]
     },
     "execution_count": 138,
     "metadata": {},
     "output_type": "execute_result"
    }
   ],
   "source": [
    "data = read_data('Expanded_data_with_more_features.csv')\n",
    "data.head()"
   ]
  },
  {
   "cell_type": "markdown",
   "id": "0d28e915-0265-4ec1-909a-43c468a7cf65",
   "metadata": {},
   "source": [
    "## 1) Скільки студентів і студенток у наборі даних?"
   ]
  },
  {
   "cell_type": "code",
   "execution_count": 139,
   "id": "53e96f00-d4c5-4a65-9a35-7bedf1a2fb71",
   "metadata": {},
   "outputs": [
    {
     "name": "stdout",
     "output_type": "stream",
     "text": [
      "{'Студентів': 15217, 'Студенток': 15424}\n"
     ]
    }
   ],
   "source": [
    "female = data[data['Gender'] == 'female'];\n",
    "male = data[data['Gender'] == 'male'];\n",
    "\n",
    "female_count = len(female);\n",
    "male_count = len(male);\n",
    "\n",
    "print({'Студентів': male_count, 'Студенток': female_count});"
   ]
  },
  {
   "cell_type": "markdown",
   "id": "2151a982-38d3-4087-82b5-3427675e7574",
   "metadata": {},
   "source": [
    "## 2) Який відсоток студентів чоловічої статі в наборі даних?"
   ]
  },
  {
   "cell_type": "code",
   "execution_count": 140,
   "id": "36baaaff-0c44-476c-ae71-54b65417f590",
   "metadata": {},
   "outputs": [
    {
     "name": "stdout",
     "output_type": "stream",
     "text": [
      "{'Відсоток студентів': 49.66}\n"
     ]
    }
   ],
   "source": [
    "rows = data.shape[0];\n",
    "\n",
    "print({'Відсоток студентів': round(male_count / rows * 100, 2)})"
   ]
  },
  {
   "cell_type": "markdown",
   "id": "0db09a92-3b5e-4baa-a411-fb9d7d2c2fad",
   "metadata": {},
   "source": [
    "## 3) Який відсоток студенток у наборі даних?"
   ]
  },
  {
   "cell_type": "code",
   "execution_count": 141,
   "id": "9f13bc4c-2814-47eb-89bd-80d8feab8aa4",
   "metadata": {},
   "outputs": [
    {
     "name": "stdout",
     "output_type": "stream",
     "text": [
      "{'Відсоток студенток': 50.34}\n"
     ]
    }
   ],
   "source": [
    "print({'Відсоток студенток': round(female_count / rows * 100, 2)})"
   ]
  },
  {
   "cell_type": "markdown",
   "id": "f1ea6823-fa9f-4fca-9088-2aef00a16485",
   "metadata": {},
   "source": [
    "## 4) Яка етнічна група має найвищий середній бал з математики?"
   ]
  },
  {
   "cell_type": "code",
   "execution_count": 142,
   "id": "a2fd68b7-ab62-4fbb-aa88-d1f76e21a2e5",
   "metadata": {},
   "outputs": [],
   "source": [
    "def highestScore(subject):\n",
    "    scores_by_group  = data.groupby('EthnicGroup')[subject].mean()\n",
    "    highest_score = scores_by_group.max()\n",
    "\n",
    "    # Знаходимо етнічну групу з найвищим середнім балом\n",
    "    highest_group = scores_by_group[scores_by_group == highest_score].index.tolist()\n",
    "\n",
    "    return {'Eтнічна група': highest_group[0], 'Cередній бал':  round(highest_score, 2)}"
   ]
  },
  {
   "cell_type": "code",
   "execution_count": 143,
   "id": "e140776b-a83c-4ade-84fb-e9278b8737bb",
   "metadata": {},
   "outputs": [
    {
     "name": "stdout",
     "output_type": "stream",
     "text": [
      "Етнічна група з найвищим середнім балом з математики: {'Eтнічна група': 'group E', 'Cередній бал': 75.3}\n"
     ]
    }
   ],
   "source": [
    "print(f\"Етнічна група з найвищим середнім балом з математики: {highestScore('MathScore')}\")"
   ]
  },
  {
   "cell_type": "markdown",
   "id": "c5e64875-360a-4301-878a-a4a9afdb8df9",
   "metadata": {},
   "source": [
    "## 5) Яка етнічна група має найвищий середній бал читання?"
   ]
  },
  {
   "cell_type": "code",
   "execution_count": 144,
   "id": "6d52dce8-101a-4b20-a053-db90dbb0d5cc",
   "metadata": {},
   "outputs": [
    {
     "name": "stdout",
     "output_type": "stream",
     "text": [
      "Етнічна група з найвищим середнім балом з читання: {'Eтнічна група': 'group E', 'Cередній бал': 74.25}\n"
     ]
    }
   ],
   "source": [
    "print(f\"Етнічна група з найвищим середнім балом з читання: {highestScore('ReadingScore')}\")"
   ]
  },
  {
   "cell_type": "markdown",
   "id": "80c89557-c968-45d3-a781-3ce7490a23cb",
   "metadata": {},
   "source": [
    "## 6) Яка етнічна група має найвищий середній бал з письма?"
   ]
  },
  {
   "cell_type": "code",
   "execution_count": 145,
   "id": "07939e30-333f-4790-ad34-7ebe1ab59112",
   "metadata": {},
   "outputs": [
    {
     "name": "stdout",
     "output_type": "stream",
     "text": [
      "Етнічна група з найвищим середнім балом з письма: {'Eтнічна група': 'group E', 'Cередній бал': 72.68}\n"
     ]
    }
   ],
   "source": [
    "print(f\"Етнічна група з найвищим середнім балом з письма: {highestScore('WritingScore')}\")"
   ]
  },
  {
   "cell_type": "markdown",
   "id": "0e32ec56-f8aa-4f0e-a66c-58d131d49d42",
   "metadata": {},
   "source": [
    "## 7) Який середній бал з математики для студентів, які закінчили курс підготовки до тесту?"
   ]
  },
  {
   "cell_type": "code",
   "execution_count": 146,
   "id": "560a7589-a34f-4135-8e86-a22139d1d19d",
   "metadata": {},
   "outputs": [],
   "source": [
    "def mean_score_after_prep(subject):\n",
    "    return data[data['TestPrep'] == 'completed'][subject].mean();"
   ]
  },
  {
   "cell_type": "code",
   "execution_count": 147,
   "id": "01b02db6-b9e2-4515-be92-8f8930941f1d",
   "metadata": {},
   "outputs": [
    {
     "name": "stdout",
     "output_type": "stream",
     "text": [
      "Середній бал з математики після курсу підготовки: 69.55\n"
     ]
    }
   ],
   "source": [
    "math_prep_score = mean_score_after_prep('MathScore')\n",
    "print(f\"Середній бал з математики після курсу підготовки: {round(math_prep_score, 2)}\")"
   ]
  },
  {
   "cell_type": "markdown",
   "id": "e68ca970-96fb-4313-a9fb-5dc97e698ff9",
   "metadata": {},
   "source": [
    "## 8) Який середній бал з читання для студентів, які пройшли курс підготовки до тесту?"
   ]
  },
  {
   "cell_type": "code",
   "execution_count": 148,
   "id": "779c4d76-7b73-4335-9226-c4303a45c5e5",
   "metadata": {},
   "outputs": [
    {
     "name": "stdout",
     "output_type": "stream",
     "text": [
      "Середній бал з читання після курсу підготовки: 73.73\n"
     ]
    }
   ],
   "source": [
    "reading_prep_score = mean_score_after_prep('ReadingScore');\n",
    "print(f\"Середній бал з читання після курсу підготовки: {round(reading_prep_score, 2)}\")"
   ]
  },
  {
   "cell_type": "markdown",
   "id": "eabb2068-6dd6-4659-8ff6-422085acf249",
   "metadata": {},
   "source": [
    "## 9) Який середній бал для студентів, які закінчили курс підготовки до тесту?"
   ]
  },
  {
   "cell_type": "code",
   "execution_count": 149,
   "id": "073649d6-db48-49f6-97b2-4a394e6e2a5d",
   "metadata": {},
   "outputs": [],
   "source": [
    "writing_prep_score = mean_score_after_prep('WritingScore')"
   ]
  },
  {
   "cell_type": "code",
   "execution_count": 150,
   "id": "f2d65968-f28e-4089-8007-caf8d0ca6750",
   "metadata": {},
   "outputs": [
    {
     "name": "stdout",
     "output_type": "stream",
     "text": [
      "Загальний середній бал за тест після курсу підготовки: 72.66\n"
     ]
    }
   ],
   "source": [
    "print(f\"Загальний середній бал за тест після курсу підготовки: {round((math_prep_score + reading_prep_score + writing_prep_score)/3, 2)}\")"
   ]
  },
  {
   "cell_type": "markdown",
   "id": "81b2517f-14f9-4526-8ffb-4e516085f07f",
   "metadata": {},
   "source": [
    "## 10) Скільки студентів мають одружених батьків?"
   ]
  },
  {
   "cell_type": "code",
   "execution_count": 151,
   "id": "c168e922-7bd5-467d-8467-93de069bd223",
   "metadata": {},
   "outputs": [],
   "source": [
    "def parent_marital_status(status):\n",
    "    return len(data[data['ParentMaritalStatus'] == status]);"
   ]
  },
  {
   "cell_type": "code",
   "execution_count": 152,
   "id": "cbb3e597-927c-4942-bf33-02e8e46a88a8",
   "metadata": {},
   "outputs": [
    {
     "name": "stdout",
     "output_type": "stream",
     "text": [
      "Кількість студентів, що мають одружених батьків: 16844\n"
     ]
    }
   ],
   "source": [
    "married_parent_count = parent_marital_status('married');\n",
    "print(f\"Кількість студентів, що мають одружених батьків: {married_parent_count}\")"
   ]
  },
  {
   "cell_type": "markdown",
   "id": "9c3c12d9-2207-4e87-b851-f4f6f054445f",
   "metadata": {},
   "source": [
    "## 11) Скільки студентів мають батьків-одинаків?"
   ]
  },
  {
   "cell_type": "code",
   "execution_count": 153,
   "id": "83850ab9-d3b1-4e91-825f-afc8cbac5389",
   "metadata": {},
   "outputs": [
    {
     "name": "stdout",
     "output_type": "stream",
     "text": [
      "Кількість студентів, що мають батьків-одинаків: 7097\n"
     ]
    }
   ],
   "source": [
    "single_parent_count = parent_marital_status('single');\n",
    "print(f\"Кількість студентів, що мають батьків-одинаків: {single_parent_count}\")"
   ]
  },
  {
   "cell_type": "markdown",
   "id": "81253939-ce26-4b30-b43a-61645784ca51",
   "metadata": {},
   "source": [
    "## 12) Чи студенти, які регулярно займаються спортом, мають вищі середні результати з **математики**, ніж ті, хто ніколи не займається спортом?"
   ]
  },
  {
   "cell_type": "code",
   "execution_count": 154,
   "id": "666cce00-6971-4378-ba8d-1ff337a3947e",
   "metadata": {},
   "outputs": [],
   "source": [
    "def avarage_score_by_sport(subject):\n",
    "    return {\n",
    "        'Регулярно займаються спортом': round(data[data['PracticeSport'] == 'regularly'][subject].mean(), 2),\n",
    "        'Ніколи не займаються спортом': round(data[data['PracticeSport'] == 'never'][subject].mean(), 2)\n",
    "    }"
   ]
  },
  {
   "cell_type": "code",
   "execution_count": 155,
   "id": "6aa248a7-a291-4b7e-97cd-d6ed7f94e4ac",
   "metadata": {},
   "outputs": [
    {
     "name": "stdout",
     "output_type": "stream",
     "text": [
      "Середні результати з математики: {'Регулярно займаються спортом': 67.84, 'Ніколи не займаються спортом': 64.17}\n"
     ]
    }
   ],
   "source": [
    "print(f\"Середні результати з математики: {avarage_score_by_sport('MathScore')}\")"
   ]
  },
  {
   "cell_type": "markdown",
   "id": "de8bf9e6-d8f5-4ddc-aad2-aab8c5f6936f",
   "metadata": {},
   "source": [
    "## 13) Чи студенти, які регулярно займаються спортом, мають вищі середні результати **читання**, ніж ті, хто ніколи не займається спортом?"
   ]
  },
  {
   "cell_type": "code",
   "execution_count": 156,
   "id": "990b1b5d-22ec-4968-8b80-55a1e8fbdde6",
   "metadata": {},
   "outputs": [
    {
     "name": "stdout",
     "output_type": "stream",
     "text": [
      "Середні результати з читання: {'Регулярно займаються спортом': 69.94, 'Ніколи не займаються спортом': 68.34}\n"
     ]
    }
   ],
   "source": [
    "print(f\"Середні результати з читання: {avarage_score_by_sport('ReadingScore')}\")"
   ]
  },
  {
   "cell_type": "markdown",
   "id": "94f313a9-b2bc-42ff-a18c-39873624e0a3",
   "metadata": {},
   "source": [
    "## 14) Скільки учнів користується шкільним автобусом, щоб дістатися до школи?"
   ]
  },
  {
   "cell_type": "code",
   "execution_count": 157,
   "id": "afc1063c-ff84-427d-b6ff-d887cceaf4d8",
   "metadata": {},
   "outputs": [],
   "source": [
    "def trasport_type_count(type):\n",
    "    return len(data[data['TransportMeans'] == type]);"
   ]
  },
  {
   "cell_type": "code",
   "execution_count": 158,
   "id": "f4eada95-5e1d-4eee-8fd9-8fda0be67b83",
   "metadata": {},
   "outputs": [
    {
     "name": "stdout",
     "output_type": "stream",
     "text": [
      "Учні, які користуються шкільним автобусом: 16145\n"
     ]
    }
   ],
   "source": [
    "print(f\"Учні, які користуються шкільним автобусом: {trasport_type_count('school_bus')}\")"
   ]
  },
  {
   "cell_type": "markdown",
   "id": "7c72f3ea-3331-44b3-98aa-36d6d8236ae6",
   "metadata": {},
   "source": [
    "## 15) Скільки учнів користується приватним транспортом, щоб дістатися до школи?"
   ]
  },
  {
   "cell_type": "code",
   "execution_count": 159,
   "id": "06e6b579-9539-453b-af0d-930c55a75987",
   "metadata": {},
   "outputs": [
    {
     "name": "stdout",
     "output_type": "stream",
     "text": [
      "Учні, які користуються приватним транспортом: 11362\n"
     ]
    }
   ],
   "source": [
    "print(f\"Учні, які користуються приватним транспортом: {trasport_type_count('private')}\")"
   ]
  },
  {
   "cell_type": "markdown",
   "id": "8efb43df-677c-48e0-946c-43dd7c945f22",
   "metadata": {},
   "source": [
    "# Завдання №2\n",
    "## Передбачте, чи завершив студент курс підготовки до іспиту, на основі його демографічних та академічних даних.\n",
    " Вхідні дані: \n",
    " *  Gender\n",
    " *  EthnicGroup\n",
    " *  ParentEduc\n",
    " *  LunchType\n",
    " *  ParentMaritalStatus\n",
    " *  PracticeSport\n",
    " *  IsFirstChild\n",
    " *  NrSiblings\n",
    " *  TransportMeans\n",
    " *  WklyStudyHours\n",
    " *  MathScore\n",
    " *  ReadingScore\n",
    " *  WritingScore\n",
    "\n",
    "   \n",
    "  Результат: TestPrep"
   ]
  },
  {
   "cell_type": "code",
   "execution_count": 160,
   "id": "f2d02b71-0f47-409b-8a1e-58e3aebf05d1",
   "metadata": {},
   "outputs": [
    {
     "name": "stdout",
     "output_type": "stream",
     "text": [
      "<class 'pandas.core.frame.DataFrame'>\n",
      "RangeIndex: 30641 entries, 0 to 30640\n",
      "Data columns (total 15 columns):\n",
      " #   Column               Non-Null Count  Dtype  \n",
      "---  ------               --------------  -----  \n",
      " 0   Unnamed: 0           30641 non-null  int64  \n",
      " 1   Gender               30641 non-null  object \n",
      " 2   EthnicGroup          28801 non-null  object \n",
      " 3   ParentEduc           28796 non-null  object \n",
      " 4   LunchType            30641 non-null  object \n",
      " 5   TestPrep             28811 non-null  object \n",
      " 6   ParentMaritalStatus  29451 non-null  object \n",
      " 7   PracticeSport        30010 non-null  object \n",
      " 8   IsFirstChild         29737 non-null  object \n",
      " 9   NrSiblings           29069 non-null  float64\n",
      " 10  TransportMeans       27507 non-null  object \n",
      " 11  WklyStudyHours       29686 non-null  object \n",
      " 12  MathScore            30641 non-null  int64  \n",
      " 13  ReadingScore         30641 non-null  int64  \n",
      " 14  WritingScore         30641 non-null  int64  \n",
      "dtypes: float64(1), int64(4), object(10)\n",
      "memory usage: 3.5+ MB\n"
     ]
    }
   ],
   "source": [
    "data.info()"
   ]
  },
  {
   "cell_type": "code",
   "execution_count": 167,
   "id": "6e1c0cd8-7449-47cd-9421-c7c977297098",
   "metadata": {},
   "outputs": [],
   "source": [
    "data['IsTestCompleted'] = data['TestPrep'] == 'completed'"
   ]
  },
  {
   "cell_type": "code",
   "execution_count": 168,
   "id": "b581aa2b-280e-40f2-9b9b-9601f89e0bc4",
   "metadata": {},
   "outputs": [],
   "source": [
    "cols = [\n",
    "    'Gender', \n",
    "    'EthnicGroup', \n",
    "    'ParentEduc', \n",
    "    'LunchType', \n",
    "    'ParentMaritalStatus', \n",
    "    'PracticeSport', \n",
    "    'IsFirstChild', \n",
    "    'NrSiblings',       \n",
    "    'TransportMeans', \n",
    "    'WklyStudyHours', \n",
    "    'MathScore', \n",
    "    'ReadingScore', \n",
    "    'WritingScore'\n",
    "]\n"
   ]
  },
  {
   "cell_type": "code",
   "execution_count": 169,
   "id": "436ed1f6-1bdf-4db1-bb70-7084fa13f34b",
   "metadata": {},
   "outputs": [
    {
     "data": {
      "text/html": [
       "<div>\n",
       "<style scoped>\n",
       "    .dataframe tbody tr th:only-of-type {\n",
       "        vertical-align: middle;\n",
       "    }\n",
       "\n",
       "    .dataframe tbody tr th {\n",
       "        vertical-align: top;\n",
       "    }\n",
       "\n",
       "    .dataframe thead th {\n",
       "        text-align: right;\n",
       "    }\n",
       "</style>\n",
       "<table border=\"1\" class=\"dataframe\">\n",
       "  <thead>\n",
       "    <tr style=\"text-align: right;\">\n",
       "      <th></th>\n",
       "      <th>Gender</th>\n",
       "      <th>EthnicGroup</th>\n",
       "      <th>ParentEduc</th>\n",
       "      <th>LunchType</th>\n",
       "      <th>ParentMaritalStatus</th>\n",
       "      <th>PracticeSport</th>\n",
       "      <th>IsFirstChild</th>\n",
       "      <th>NrSiblings</th>\n",
       "      <th>TransportMeans</th>\n",
       "      <th>WklyStudyHours</th>\n",
       "      <th>MathScore</th>\n",
       "      <th>ReadingScore</th>\n",
       "      <th>WritingScore</th>\n",
       "      <th>IsTestCompleted</th>\n",
       "    </tr>\n",
       "  </thead>\n",
       "  <tbody>\n",
       "    <tr>\n",
       "      <th>0</th>\n",
       "      <td>female</td>\n",
       "      <td>NaN</td>\n",
       "      <td>bachelor's degree</td>\n",
       "      <td>standard</td>\n",
       "      <td>married</td>\n",
       "      <td>regularly</td>\n",
       "      <td>yes</td>\n",
       "      <td>3.0</td>\n",
       "      <td>school_bus</td>\n",
       "      <td>&lt; 5</td>\n",
       "      <td>71</td>\n",
       "      <td>71</td>\n",
       "      <td>74</td>\n",
       "      <td>False</td>\n",
       "    </tr>\n",
       "    <tr>\n",
       "      <th>1</th>\n",
       "      <td>female</td>\n",
       "      <td>group C</td>\n",
       "      <td>some college</td>\n",
       "      <td>standard</td>\n",
       "      <td>married</td>\n",
       "      <td>sometimes</td>\n",
       "      <td>yes</td>\n",
       "      <td>0.0</td>\n",
       "      <td>NaN</td>\n",
       "      <td>5 - 10</td>\n",
       "      <td>69</td>\n",
       "      <td>90</td>\n",
       "      <td>88</td>\n",
       "      <td>False</td>\n",
       "    </tr>\n",
       "    <tr>\n",
       "      <th>2</th>\n",
       "      <td>female</td>\n",
       "      <td>group B</td>\n",
       "      <td>master's degree</td>\n",
       "      <td>standard</td>\n",
       "      <td>single</td>\n",
       "      <td>sometimes</td>\n",
       "      <td>yes</td>\n",
       "      <td>4.0</td>\n",
       "      <td>school_bus</td>\n",
       "      <td>&lt; 5</td>\n",
       "      <td>87</td>\n",
       "      <td>93</td>\n",
       "      <td>91</td>\n",
       "      <td>False</td>\n",
       "    </tr>\n",
       "    <tr>\n",
       "      <th>3</th>\n",
       "      <td>male</td>\n",
       "      <td>group A</td>\n",
       "      <td>associate's degree</td>\n",
       "      <td>free/reduced</td>\n",
       "      <td>married</td>\n",
       "      <td>never</td>\n",
       "      <td>no</td>\n",
       "      <td>1.0</td>\n",
       "      <td>NaN</td>\n",
       "      <td>5 - 10</td>\n",
       "      <td>45</td>\n",
       "      <td>56</td>\n",
       "      <td>42</td>\n",
       "      <td>False</td>\n",
       "    </tr>\n",
       "    <tr>\n",
       "      <th>4</th>\n",
       "      <td>male</td>\n",
       "      <td>group C</td>\n",
       "      <td>some college</td>\n",
       "      <td>standard</td>\n",
       "      <td>married</td>\n",
       "      <td>sometimes</td>\n",
       "      <td>yes</td>\n",
       "      <td>0.0</td>\n",
       "      <td>school_bus</td>\n",
       "      <td>5 - 10</td>\n",
       "      <td>76</td>\n",
       "      <td>78</td>\n",
       "      <td>75</td>\n",
       "      <td>False</td>\n",
       "    </tr>\n",
       "    <tr>\n",
       "      <th>...</th>\n",
       "      <td>...</td>\n",
       "      <td>...</td>\n",
       "      <td>...</td>\n",
       "      <td>...</td>\n",
       "      <td>...</td>\n",
       "      <td>...</td>\n",
       "      <td>...</td>\n",
       "      <td>...</td>\n",
       "      <td>...</td>\n",
       "      <td>...</td>\n",
       "      <td>...</td>\n",
       "      <td>...</td>\n",
       "      <td>...</td>\n",
       "      <td>...</td>\n",
       "    </tr>\n",
       "    <tr>\n",
       "      <th>30636</th>\n",
       "      <td>female</td>\n",
       "      <td>group D</td>\n",
       "      <td>high school</td>\n",
       "      <td>standard</td>\n",
       "      <td>single</td>\n",
       "      <td>sometimes</td>\n",
       "      <td>no</td>\n",
       "      <td>2.0</td>\n",
       "      <td>school_bus</td>\n",
       "      <td>5 - 10</td>\n",
       "      <td>59</td>\n",
       "      <td>61</td>\n",
       "      <td>65</td>\n",
       "      <td>False</td>\n",
       "    </tr>\n",
       "    <tr>\n",
       "      <th>30637</th>\n",
       "      <td>male</td>\n",
       "      <td>group E</td>\n",
       "      <td>high school</td>\n",
       "      <td>standard</td>\n",
       "      <td>single</td>\n",
       "      <td>regularly</td>\n",
       "      <td>no</td>\n",
       "      <td>1.0</td>\n",
       "      <td>private</td>\n",
       "      <td>5 - 10</td>\n",
       "      <td>58</td>\n",
       "      <td>53</td>\n",
       "      <td>51</td>\n",
       "      <td>False</td>\n",
       "    </tr>\n",
       "    <tr>\n",
       "      <th>30638</th>\n",
       "      <td>female</td>\n",
       "      <td>NaN</td>\n",
       "      <td>high school</td>\n",
       "      <td>free/reduced</td>\n",
       "      <td>married</td>\n",
       "      <td>sometimes</td>\n",
       "      <td>no</td>\n",
       "      <td>1.0</td>\n",
       "      <td>private</td>\n",
       "      <td>5 - 10</td>\n",
       "      <td>61</td>\n",
       "      <td>70</td>\n",
       "      <td>67</td>\n",
       "      <td>True</td>\n",
       "    </tr>\n",
       "    <tr>\n",
       "      <th>30639</th>\n",
       "      <td>female</td>\n",
       "      <td>group D</td>\n",
       "      <td>associate's degree</td>\n",
       "      <td>standard</td>\n",
       "      <td>married</td>\n",
       "      <td>regularly</td>\n",
       "      <td>no</td>\n",
       "      <td>3.0</td>\n",
       "      <td>school_bus</td>\n",
       "      <td>5 - 10</td>\n",
       "      <td>82</td>\n",
       "      <td>90</td>\n",
       "      <td>93</td>\n",
       "      <td>True</td>\n",
       "    </tr>\n",
       "    <tr>\n",
       "      <th>30640</th>\n",
       "      <td>male</td>\n",
       "      <td>group B</td>\n",
       "      <td>some college</td>\n",
       "      <td>standard</td>\n",
       "      <td>married</td>\n",
       "      <td>never</td>\n",
       "      <td>no</td>\n",
       "      <td>1.0</td>\n",
       "      <td>school_bus</td>\n",
       "      <td>5 - 10</td>\n",
       "      <td>64</td>\n",
       "      <td>60</td>\n",
       "      <td>58</td>\n",
       "      <td>False</td>\n",
       "    </tr>\n",
       "  </tbody>\n",
       "</table>\n",
       "<p>30641 rows × 14 columns</p>\n",
       "</div>"
      ],
      "text/plain": [
       "       Gender EthnicGroup          ParentEduc     LunchType  \\\n",
       "0      female         NaN   bachelor's degree      standard   \n",
       "1      female     group C        some college      standard   \n",
       "2      female     group B     master's degree      standard   \n",
       "3        male     group A  associate's degree  free/reduced   \n",
       "4        male     group C        some college      standard   \n",
       "...       ...         ...                 ...           ...   \n",
       "30636  female     group D         high school      standard   \n",
       "30637    male     group E         high school      standard   \n",
       "30638  female         NaN         high school  free/reduced   \n",
       "30639  female     group D  associate's degree      standard   \n",
       "30640    male     group B        some college      standard   \n",
       "\n",
       "      ParentMaritalStatus PracticeSport IsFirstChild  NrSiblings  \\\n",
       "0                 married     regularly          yes         3.0   \n",
       "1                 married     sometimes          yes         0.0   \n",
       "2                  single     sometimes          yes         4.0   \n",
       "3                 married         never           no         1.0   \n",
       "4                 married     sometimes          yes         0.0   \n",
       "...                   ...           ...          ...         ...   \n",
       "30636              single     sometimes           no         2.0   \n",
       "30637              single     regularly           no         1.0   \n",
       "30638             married     sometimes           no         1.0   \n",
       "30639             married     regularly           no         3.0   \n",
       "30640             married         never           no         1.0   \n",
       "\n",
       "      TransportMeans WklyStudyHours  MathScore  ReadingScore  WritingScore  \\\n",
       "0         school_bus            < 5         71            71            74   \n",
       "1                NaN         5 - 10         69            90            88   \n",
       "2         school_bus            < 5         87            93            91   \n",
       "3                NaN         5 - 10         45            56            42   \n",
       "4         school_bus         5 - 10         76            78            75   \n",
       "...              ...            ...        ...           ...           ...   \n",
       "30636     school_bus         5 - 10         59            61            65   \n",
       "30637        private         5 - 10         58            53            51   \n",
       "30638        private         5 - 10         61            70            67   \n",
       "30639     school_bus         5 - 10         82            90            93   \n",
       "30640     school_bus         5 - 10         64            60            58   \n",
       "\n",
       "       IsTestCompleted  \n",
       "0                False  \n",
       "1                False  \n",
       "2                False  \n",
       "3                False  \n",
       "4                False  \n",
       "...                ...  \n",
       "30636            False  \n",
       "30637            False  \n",
       "30638             True  \n",
       "30639             True  \n",
       "30640            False  \n",
       "\n",
       "[30641 rows x 14 columns]"
      ]
     },
     "execution_count": 169,
     "metadata": {},
     "output_type": "execute_result"
    }
   ],
   "source": [
    "data[cols + ['IsTestCompleted']]"
   ]
  },
  {
   "cell_type": "code",
   "execution_count": 183,
   "id": "a6294066-6c0e-4b96-a1f9-f06cd0734a3a",
   "metadata": {},
   "outputs": [],
   "source": [
    "number_columns = [\n",
    "    'MathScore', \n",
    "    'ReadingScore', \n",
    "    'WritingScore'\n",
    "]\n",
    "category_columns = [\n",
    "    'Gender', \n",
    "    'EthnicGroup', \n",
    "    'ParentEduc', \n",
    "    'LunchType', \n",
    "    'ParentMaritalStatus', \n",
    "    'PracticeSport',\n",
    "    'IsFirstChild',\n",
    "    'TransportMeans',\n",
    "    'WklyStudyHours',\n",
    "    'NrSiblings'\n",
    "]"
   ]
  },
  {
   "cell_type": "code",
   "execution_count": 184,
   "id": "1f1794a7-d354-4d66-ac20-b7c63c3abea0",
   "metadata": {},
   "outputs": [],
   "source": [
    "import numpy as np\n",
    "from sklearn.impute import SimpleImputer\n",
    "from sklearn.pipeline import Pipeline\n",
    "from sklearn.compose import ColumnTransformer\n",
    "from sklearn.preprocessing import OneHotEncoder\n",
    "from sklearn.preprocessing import StandardScaler\n",
    "\n",
    "num_pipeline = Pipeline([\n",
    "    ('imputer', SimpleImputer(strategy=\"median\")),\n",
    "    ('scaler', StandardScaler()),\n",
    "])\n",
    "\n",
    "pipeline = ColumnTransformer([\n",
    "    (\"num\", num_pipeline, number_columns),\n",
    "    (\"cat\", OneHotEncoder(), category_columns)\n",
    "])\n",
    "\n",
    "X = pipeline.fit_transform(data)\n",
    "Y = data['IsTestCompleted'].values"
   ]
  },
  {
   "cell_type": "code",
   "execution_count": 185,
   "id": "537487bc-9a52-472b-9f9d-f7cd59f0f588",
   "metadata": {},
   "outputs": [
    {
     "data": {
      "text/plain": [
       "0.7516043944090933"
      ]
     },
     "execution_count": 185,
     "metadata": {},
     "output_type": "execute_result"
    }
   ],
   "source": [
    "from sklearn.linear_model import LogisticRegression\n",
    "from sklearn.model_selection import train_test_split\n",
    "\n",
    "model = LogisticRegression()\n",
    "cv = ShuffleSplit(n_splits=12, test_size=0.2, random_state=0)\n",
    "cross_val_score(LogisticRegression(), X, Y, cv=cv).mean()"
   ]
  }
 ],
 "metadata": {
  "kernelspec": {
   "display_name": "Python 3 (ipykernel)",
   "language": "python",
   "name": "python3"
  },
  "language_info": {
   "codemirror_mode": {
    "name": "ipython",
    "version": 3
   },
   "file_extension": ".py",
   "mimetype": "text/x-python",
   "name": "python",
   "nbconvert_exporter": "python",
   "pygments_lexer": "ipython3",
   "version": "3.11.7"
  }
 },
 "nbformat": 4,
 "nbformat_minor": 5
}
