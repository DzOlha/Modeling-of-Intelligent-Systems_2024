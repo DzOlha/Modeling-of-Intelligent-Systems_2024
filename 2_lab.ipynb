{
 "cells": [
  {
   "cell_type": "markdown",
   "id": "025a50f0-7bf9-415f-8bdd-6886dfd9bcd4",
   "metadata": {},
   "source": [
    "# Варіант №3\n",
    "## Завдання №1 \n",
    "Виконати набір вправ. Всі завдання виконати двома способами:\n",
    "1) З використанням універсальних функцій бібліотеки NumPy\n",
    "2) За допомогою ітеративних конструкцій (з використанням циклів, спискових включень тощо)\n",
    "3) Для обох випадків підрахувати час виконання скрипту та зробити висновки\n",
    "### 1) Вводиться число n. Вивести масив розміром n*n, в якому по діагоналі йдуть числа від 1 до n, а всі інші дорівнюють нулю."
   ]
  },
  {
   "cell_type": "code",
   "execution_count": 6,
   "id": "d28ade32-0f5e-4d17-94c7-e208e8928f79",
   "metadata": {},
   "outputs": [],
   "source": [
    "import numpy as np"
   ]
  },
  {
   "cell_type": "code",
   "execution_count": 32,
   "id": "c2d49e3b-bb4c-4268-8dca-12f92fd29f3f",
   "metadata": {},
   "outputs": [],
   "source": [
    "def readInputNumber(name = 'n'):\n",
    "    return input(f\"Введіть ціле число {(name)}: \")"
   ]
  },
  {
   "cell_type": "code",
   "execution_count": 54,
   "id": "62957732-9c5d-4315-a674-be6b1e6e8458",
   "metadata": {},
   "outputs": [],
   "source": [
    "def readInputArray():\n",
    "    input_numbers = input(\"Введіть масив чисел (через пробіл): \");\n",
    "    numbers = list(map(float, input_numbers.split()))\n",
    "    return numbers"
   ]
  },
  {
   "cell_type": "code",
   "execution_count": 27,
   "id": "931054bf-227b-4819-9661-80f6877b6024",
   "metadata": {},
   "outputs": [],
   "source": [
    "def print_matrix(matrix):\n",
    "    for row in matrix:\n",
    "        print(row)"
   ]
  },
  {
   "cell_type": "code",
   "execution_count": 34,
   "id": "9dd8fde6-b888-4d48-a5b7-620c4b82bdc3",
   "metadata": {},
   "outputs": [
    {
     "name": "stdin",
     "output_type": "stream",
     "text": [
      "Введіть ціле число n:  8\n"
     ]
    },
    {
     "name": "stdout",
     "output_type": "stream",
     "text": [
      "[[1 0 0 0 0 0 0 0]\n",
      " [0 2 0 0 0 0 0 0]\n",
      " [0 0 3 0 0 0 0 0]\n",
      " [0 0 0 4 0 0 0 0]\n",
      " [0 0 0 0 5 0 0 0]\n",
      " [0 0 0 0 0 6 0 0]\n",
      " [0 0 0 0 0 0 7 0]\n",
      " [0 0 0 0 0 0 0 8]]\n",
      "CPU times: total: 0 ns\n",
      "Wall time: 1.87 s\n"
     ]
    }
   ],
   "source": [
    "%%time\n",
    "# Спосіб реалізації за рахунок використання УНІВЕРСАЛЬНИХ ФУНКЦІЙ бібліотеки NumPy\n",
    "def diagonalMatrix(n):\n",
    "    # [1, 2, .., n]\n",
    "    numbers = np.arange(1, int(n) + 1, 1, dtype='int16');\n",
    "\n",
    "    # matrix with zeros and the array on diagonal\n",
    "    matrix = np.diag(numbers)\n",
    "    return matrix\n",
    "\n",
    "n = readInputNumber();\n",
    "print(diagonalMatrix(n));"
   ]
  },
  {
   "cell_type": "code",
   "execution_count": 158,
   "id": "5f32b3a4-5148-4e70-89ca-97e53eee0a13",
   "metadata": {},
   "outputs": [
    {
     "name": "stdin",
     "output_type": "stream",
     "text": [
      "Введіть ціле число n:  8\n"
     ]
    },
    {
     "name": "stdout",
     "output_type": "stream",
     "text": [
      "[1, 0, 0, 0, 0, 0, 0, 0]\n",
      "[0, 2, 0, 0, 0, 0, 0, 0]\n",
      "[0, 0, 3, 0, 0, 0, 0, 0]\n",
      "[0, 0, 0, 4, 0, 0, 0, 0]\n",
      "[0, 0, 0, 0, 5, 0, 0, 0]\n",
      "[0, 0, 0, 0, 0, 6, 0, 0]\n",
      "[0, 0, 0, 0, 0, 0, 7, 0]\n",
      "[0, 0, 0, 0, 0, 0, 0, 8]\n",
      "CPU times: total: 0 ns\n",
      "Wall time: 3.07 s\n"
     ]
    }
   ],
   "source": [
    "%%time\n",
    "# Спосіб реалізації за рахунок використання ІТЕРАТИВНИХ методів\n",
    "def diagonalMatrix(n: int):\n",
    "    n = int(n)\n",
    "    matrix = [\n",
    "        [0 for _ in range(n)] \n",
    "        for _ in range(n)\n",
    "    ]\n",
    "    for i in range(n):\n",
    "        for j in range(n):\n",
    "            if(i == j):\n",
    "                matrix[i][j] = i + 1;\n",
    "        \n",
    "    return matrix\n",
    "\n",
    "n = readInputNumber();\n",
    "print_matrix(diagonalMatrix(n));"
   ]
  },
  {
   "cell_type": "markdown",
   "id": "3cbdd775-b689-438a-ab8f-c15e433d2a91",
   "metadata": {},
   "source": [
    "### 3) Вводяться чотири числа n, m, r, c. Вивести масив розміру n*m, в якому в кожному рядку з номером r і в кожному стовпчику з номером c стоять 0, а інші елементи дорівнюють 1."
   ]
  },
  {
   "cell_type": "code",
   "execution_count": 44,
   "id": "dc7187f5-694b-4e22-af1a-6078831550b5",
   "metadata": {},
   "outputs": [
    {
     "name": "stdin",
     "output_type": "stream",
     "text": [
      "Введіть ціле число n:  7\n",
      "Введіть ціле число m:  6\n",
      "Введіть ціле число r:  5\n",
      "Введіть ціле число c:  4\n"
     ]
    },
    {
     "name": "stdout",
     "output_type": "stream",
     "text": [
      "[[1 1 1 1 0 1]\n",
      " [1 1 1 1 0 1]\n",
      " [1 1 1 1 0 1]\n",
      " [1 1 1 1 0 1]\n",
      " [1 1 1 1 0 1]\n",
      " [0 0 0 0 0 0]\n",
      " [1 1 1 1 0 1]]\n",
      "CPU times: total: 31.2 ms\n",
      "Wall time: 2.41 s\n"
     ]
    }
   ],
   "source": [
    "%%time\n",
    "# Спосіб реалізації за рахунок використання УНІВЕРСАЛЬНИХ ФУНКЦІЙ бібліотеки NumPy\n",
    "def matrixOnes(n: int, m: int, r: int, c: int):\n",
    "     matrix = np.ones((n, m), dtype='int16');\n",
    "     matrix[r, :] = 0\n",
    "     matrix[:, c] = 0\n",
    "     print(matrix)\n",
    "\n",
    "n = int(readInputNumber('n'));\n",
    "m = int(readInputNumber('m'));\n",
    "r = int(readInputNumber('r'));\n",
    "c = int(readInputNumber('c'));\n",
    "\n",
    "matrixOnes(n, m, r, c)"
   ]
  },
  {
   "cell_type": "code",
   "execution_count": 46,
   "id": "6a97873d-4e7a-4559-b041-477eeb8912de",
   "metadata": {},
   "outputs": [
    {
     "name": "stdin",
     "output_type": "stream",
     "text": [
      "Введіть ціле число n:  7\n",
      "Введіть ціле число m:  6\n",
      "Введіть ціле число r:  5\n",
      "Введіть ціле число c:  4\n"
     ]
    },
    {
     "name": "stdout",
     "output_type": "stream",
     "text": [
      "[1, 1, 1, 1, 0, 1, 1]\n",
      "[1, 1, 1, 1, 0, 1, 1]\n",
      "[1, 1, 1, 1, 0, 1, 1]\n",
      "[1, 1, 1, 1, 0, 1, 1]\n",
      "[1, 1, 1, 1, 0, 1, 1]\n",
      "[0, 0, 0, 0, 0, 0, 0]\n",
      "[1, 1, 1, 1, 0, 1, 1]\n",
      "CPU times: total: 15.6 ms\n",
      "Wall time: 3.04 s\n"
     ]
    }
   ],
   "source": [
    "%%time\n",
    "# Спосіб реалізації за рахунок використання ІТЕРАТИВНИХ методів\n",
    "def matrixOnes(n: int, m: int, r: int, c: int):\n",
    "    n = int(n)\n",
    "    matrix = [\n",
    "        [1 for _ in range(n)] \n",
    "        for _ in range(n)\n",
    "    ]\n",
    "    for i in range(n):\n",
    "        for j in range(n):\n",
    "            if(i == r or j == c):\n",
    "                matrix[i][j] = 0;\n",
    "        \n",
    "    return matrix\n",
    "    \n",
    "n = int(readInputNumber('n'));\n",
    "m = int(readInputNumber('m'));\n",
    "r = int(readInputNumber('r'));\n",
    "c = int(readInputNumber('c'));\n",
    "\n",
    "print_matrix(matrixOnes(n, m, r, c));"
   ]
  },
  {
   "cell_type": "markdown",
   "id": "afdc8d20-894f-41e8-9951-78360db2c61e",
   "metadata": {},
   "source": [
    "### 6) З клавіатури вводиться масив. Замінити всі ненульові елементи на -1."
   ]
  },
  {
   "cell_type": "code",
   "execution_count": 62,
   "id": "fffbe05b-60c8-46fb-ac94-7dd59bae1293",
   "metadata": {},
   "outputs": [
    {
     "name": "stdin",
     "output_type": "stream",
     "text": [
      "Введіть масив чисел (через пробіл):   2 3 0 7 8 0 9.86 3.4 98 0 22.1\n"
     ]
    },
    {
     "name": "stdout",
     "output_type": "stream",
     "text": [
      "CPU times: total: 0 ns\n",
      "Wall time: 1.7 s\n"
     ]
    },
    {
     "data": {
      "text/plain": [
       "array([-1., -1.,  0., -1., -1.,  0., -1., -1., -1.,  0., -1.])"
      ]
     },
     "execution_count": 62,
     "metadata": {},
     "output_type": "execute_result"
    }
   ],
   "source": [
    "%%time\n",
    "# Спосіб реалізації за рахунок використання УНІВЕРСАЛЬНИХ ФУНКЦІЙ бібліотеки NumPy\n",
    "def notZeroToMinusOne(arr):\n",
    "    array = np.array(arr);\n",
    "    array[array != 0] = -1\n",
    "    return array\n",
    "\n",
    "arr = readInputArray()\n",
    "notZeroToMinusOne(arr)"
   ]
  },
  {
   "cell_type": "code",
   "execution_count": 63,
   "id": "ff78dfa6-1901-4869-907c-5fdba2a08c2e",
   "metadata": {},
   "outputs": [
    {
     "name": "stdin",
     "output_type": "stream",
     "text": [
      "Введіть масив чисел (через пробіл):   2 3 0 7 8 0 9.86 3.4 98 0 22.1\n"
     ]
    },
    {
     "name": "stdout",
     "output_type": "stream",
     "text": [
      "CPU times: total: 0 ns\n",
      "Wall time: 1.94 s\n"
     ]
    },
    {
     "data": {
      "text/plain": [
       "[-1.0, -1.0, 0.0, -1.0, -1.0, 0.0, -1.0, -1.0, -1.0, 0.0, -1.0]"
      ]
     },
     "execution_count": 63,
     "metadata": {},
     "output_type": "execute_result"
    }
   ],
   "source": [
    "%%time\n",
    "# Спосіб реалізації за рахунок використання ІТЕРАТИВНИХ методів\n",
    "def notZeroToMinusOne(arr):\n",
    "    size = len(arr)\n",
    "    for i in range(size):\n",
    "        if(arr[i] != 0):\n",
    "            arr[i] = -1.0;\n",
    "    return arr        \n",
    "\n",
    "arr = readInputArray()\n",
    "notZeroToMinusOne(arr)"
   ]
  },
  {
   "cell_type": "markdown",
   "id": "f2091d7d-9327-4f77-b3ff-e7dfd4a79966",
   "metadata": {},
   "source": [
    "### 7) З клавіатури вводиться масив. Замінити всі нульові елементи на -1."
   ]
  },
  {
   "cell_type": "code",
   "execution_count": 64,
   "id": "7397f857-6a50-42e0-8145-5a9a80a154ac",
   "metadata": {},
   "outputs": [
    {
     "name": "stdin",
     "output_type": "stream",
     "text": [
      "Введіть масив чисел (через пробіл):  2 3 0 7 8 0 9.86 3.4 98 0 22.1\n"
     ]
    },
    {
     "name": "stdout",
     "output_type": "stream",
     "text": [
      "CPU times: total: 0 ns\n",
      "Wall time: 1.8 s\n"
     ]
    },
    {
     "data": {
      "text/plain": [
       "array([ 2.  ,  3.  , -1.  ,  7.  ,  8.  , -1.  ,  9.86,  3.4 , 98.  ,\n",
       "       -1.  , 22.1 ])"
      ]
     },
     "execution_count": 64,
     "metadata": {},
     "output_type": "execute_result"
    }
   ],
   "source": [
    "%%time\n",
    "# Спосіб реалізації за рахунок використання УНІВЕРСАЛЬНИХ ФУНКЦІЙ бібліотеки NumPy\n",
    "def zeroToMinusOne(arr):\n",
    "    array = np.array(arr);\n",
    "    array[array == 0] = -1\n",
    "    return array\n",
    "\n",
    "arr = readInputArray()\n",
    "zeroToMinusOne(arr)"
   ]
  },
  {
   "cell_type": "code",
   "execution_count": 67,
   "id": "121894e5-7e07-4ba8-b5dc-05e86b362756",
   "metadata": {},
   "outputs": [
    {
     "name": "stdin",
     "output_type": "stream",
     "text": [
      "Введіть масив чисел (через пробіл):  2 3 0 7 8 0 9.86 3.4 98 0 22.1\n"
     ]
    },
    {
     "name": "stdout",
     "output_type": "stream",
     "text": [
      "CPU times: total: 0 ns\n",
      "Wall time: 2.62 s\n"
     ]
    },
    {
     "data": {
      "text/plain": [
       "[2.0, 3.0, -1.0, 7.0, 8.0, -1.0, 9.86, 3.4, 98.0, -1.0, 22.1]"
      ]
     },
     "execution_count": 67,
     "metadata": {},
     "output_type": "execute_result"
    }
   ],
   "source": [
    "%%time\n",
    "# Спосіб реалізації за рахунок використання ІТЕРАТИВНИХ методів\n",
    "def notZeroToMinusOne(arr):\n",
    "    size = len(arr)\n",
    "    for i in range(size):\n",
    "        if(arr[i] == 0):\n",
    "            arr[i] = -1.0;\n",
    "    return arr        \n",
    "\n",
    "arr = readInputArray()\n",
    "notZeroToMinusOne(arr)"
   ]
  },
  {
   "cell_type": "markdown",
   "id": "dd2c670b-c543-424a-b613-969a7d6eb18a",
   "metadata": {},
   "source": [
    "### 8) З клавіатури вводиться масив. Підрахувати в ньому кількість нульових та ненульових елементів."
   ]
  },
  {
   "cell_type": "code",
   "execution_count": 72,
   "id": "996a49af-3326-42c2-b9ec-232cf9e6358e",
   "metadata": {},
   "outputs": [
    {
     "name": "stdin",
     "output_type": "stream",
     "text": [
      "Введіть масив чисел (через пробіл):   2 3 0 7 8 0 9.86 3.4 98 0 22.1\n"
     ]
    },
    {
     "name": "stdout",
     "output_type": "stream",
     "text": [
      "CPU times: total: 15.6 ms\n",
      "Wall time: 1.36 s\n"
     ]
    },
    {
     "data": {
      "text/plain": [
       "{'Нулів': 3, 'Не нулів': 8}"
      ]
     },
     "execution_count": 72,
     "metadata": {},
     "output_type": "execute_result"
    }
   ],
   "source": [
    "%%time\n",
    "# Спосіб реалізації за рахунок використання УНІВЕРСАЛЬНИХ ФУНКЦІЙ бібліотеки NumPy\n",
    "def countZerosNotZeros(arr):\n",
    "    array = np.array(arr);\n",
    "    zeros = array[array == 0]\n",
    "    notZeros = array[array != 0]\n",
    "    return {\n",
    "        'Нулів': len(zeros),\n",
    "        'Не нулів': len(notZeros)\n",
    "    }\n",
    "\n",
    "arr = readInputArray()\n",
    "countZerosNotZeros(arr)"
   ]
  },
  {
   "cell_type": "code",
   "execution_count": 77,
   "id": "6bacdc90-8fbb-4520-8f1e-1964201c02e8",
   "metadata": {},
   "outputs": [
    {
     "name": "stdin",
     "output_type": "stream",
     "text": [
      "Введіть масив чисел (через пробіл):  2 3 0 7 8 0 9.86 3.4 98 0 22.1\n"
     ]
    },
    {
     "name": "stdout",
     "output_type": "stream",
     "text": [
      "CPU times: total: 0 ns\n",
      "Wall time: 1.6 s\n"
     ]
    },
    {
     "data": {
      "text/plain": [
       "{'Нулів': 3, 'Не нулів': 8}"
      ]
     },
     "execution_count": 77,
     "metadata": {},
     "output_type": "execute_result"
    }
   ],
   "source": [
    "%%time\n",
    "# Спосіб реалізації за рахунок використання ІТЕРАТИВНИХ методів\n",
    "def countZerosNotZeros(arr):\n",
    "    size = len(arr)\n",
    "    zeros = 0;\n",
    "    notZeros = 0;\n",
    "    for i in range(size):\n",
    "        if(arr[i] == 0):\n",
    "            zeros += 1\n",
    "        else: notZeros += 1\n",
    "    return {\n",
    "        'Нулів': zeros,\n",
    "        'Не нулів': notZeros\n",
    "    }\n",
    "\n",
    "arr = readInputArray()\n",
    "countZerosNotZeros(arr)"
   ]
  },
  {
   "cell_type": "markdown",
   "id": "79556933-b20f-4ffb-a644-08f41ea96a19",
   "metadata": {},
   "source": [
    "### 11) Створити масив з одиниць розміром n*n та додати до нього рамку, що утворюється з 0."
   ]
  },
  {
   "cell_type": "code",
   "execution_count": 81,
   "id": "79aec45d-b905-43bf-9640-93bba246bcb8",
   "metadata": {},
   "outputs": [
    {
     "name": "stdin",
     "output_type": "stream",
     "text": [
      "Введіть ціле число n:  5\n"
     ]
    },
    {
     "name": "stdout",
     "output_type": "stream",
     "text": [
      "[[0 0 0 0 0 0 0]\n",
      " [0 1 1 1 1 1 0]\n",
      " [0 1 1 1 1 1 0]\n",
      " [0 1 1 1 1 1 0]\n",
      " [0 1 1 1 1 1 0]\n",
      " [0 1 1 1 1 1 0]\n",
      " [0 0 0 0 0 0 0]]\n",
      "CPU times: total: 0 ns\n",
      "Wall time: 1.48 s\n"
     ]
    }
   ],
   "source": [
    "%%time\n",
    "# Спосіб реалізації за рахунок використання УНІВЕРСАЛЬНИХ ФУНКЦІЙ бібліотеки NumPy\n",
    "def onesInsideZerosBorder(n: int):\n",
    "    matrixOnes = np.ones((n, n));\n",
    "    largerZerosMatrix = np.zeros((n + 2, n + 2) , dtype=int);\n",
    "    largerZerosMatrix[1:n + 1, 1:n + 1] = matrixOnes\n",
    "    return largerZerosMatrix;\n",
    "\n",
    "n = int(readInputNumber('n'));\n",
    "print(onesInsideZerosBorder(n));"
   ]
  },
  {
   "cell_type": "code",
   "execution_count": 93,
   "id": "801e3a82-5dae-457d-955c-0378ace74ed8",
   "metadata": {},
   "outputs": [
    {
     "name": "stdin",
     "output_type": "stream",
     "text": [
      "Введіть ціле число n:  5\n"
     ]
    },
    {
     "name": "stdout",
     "output_type": "stream",
     "text": [
      "[0, 0, 0, 0, 0, 0, 0]\n",
      "[0, 1, 1, 1, 1, 1, 0]\n",
      "[0, 1, 1, 1, 1, 1, 0]\n",
      "[0, 1, 1, 1, 1, 1, 0]\n",
      "[0, 1, 1, 1, 1, 1, 0]\n",
      "[0, 1, 1, 1, 1, 1, 0]\n",
      "[0, 0, 0, 0, 0, 0, 0]\n",
      "CPU times: total: 0 ns\n",
      "Wall time: 1.26 s\n"
     ]
    }
   ],
   "source": [
    "%%time\n",
    "# Спосіб реалізації за рахунок використання ІТЕРАТИВНИХ методів\n",
    "def onesInsideZerosBorder(n: int):\n",
    "    n = int(n)\n",
    "    matrixZeros = [\n",
    "        [0 for _ in range(n + 2)] \n",
    "        for _ in range(n + 2)\n",
    "    ]\n",
    "    for i in range(n + 2):\n",
    "        for j in range(n + 2):\n",
    "            if(i > 0 and j > 0 and i < n + 1 and j < n + 1):\n",
    "                matrixZeros[i][j] = 1;\n",
    "        \n",
    "    return matrixZeros\n",
    "\n",
    "n = int(readInputNumber('n'));\n",
    "print_matrix(onesInsideZerosBorder(n));"
   ]
  },
  {
   "cell_type": "markdown",
   "id": "b755b288-251f-40c9-be67-3646e3124006",
   "metadata": {},
   "source": [
    "### 16) Заповнити вектор значеннями від 0 до n. Всі значення, що більші за n/4 та менші за 3n/4 замінити нулями."
   ]
  },
  {
   "cell_type": "code",
   "execution_count": 96,
   "id": "4734c218-6e88-44db-9814-415fb3d4fc4f",
   "metadata": {},
   "outputs": [
    {
     "name": "stdin",
     "output_type": "stream",
     "text": [
      "Введіть ціле число n:  9\n"
     ]
    },
    {
     "name": "stdout",
     "output_type": "stream",
     "text": [
      "[0 1 2 0 0 0 0 7 8 9]\n",
      "CPU times: total: 0 ns\n",
      "Wall time: 1.92 s\n"
     ]
    }
   ],
   "source": [
    "%%time\n",
    "# Спосіб реалізації за рахунок використання УНІВЕРСАЛЬНИХ ФУНКЦІЙ бібліотеки NumPy\n",
    "def populateVectore(n: int):\n",
    "    vector = np.arange(0, n + 1, 1);\n",
    "    condition = np.logical_and(vector > n/4, vector < 3*n/4)\n",
    "    vector[condition] = 0\n",
    "    return vector;\n",
    "\n",
    "# n = 9 => [0, 1, 2, 3, 4, 5, 6, 7, 8, 9] => [0, 1, 2, 0, 0, 0, 0, 7, 8, 9]\n",
    "n = int(readInputNumber('n'));\n",
    "print(populateVectore(n));"
   ]
  },
  {
   "cell_type": "code",
   "execution_count": 98,
   "id": "eb6f0174-6f0a-4bce-97ea-8fee640a06dd",
   "metadata": {},
   "outputs": [
    {
     "name": "stdin",
     "output_type": "stream",
     "text": [
      "Введіть ціле число n:  9\n"
     ]
    },
    {
     "name": "stdout",
     "output_type": "stream",
     "text": [
      "[0, 1, 2, 0, 0, 0, 0, 7, 8, 9]\n",
      "CPU times: total: 0 ns\n",
      "Wall time: 2.02 s\n"
     ]
    }
   ],
   "source": [
    "%%time\n",
    "# Спосіб реалізації за рахунок використання ІТЕРАТИВНИХ методів\n",
    "def populateVectore(n: int):\n",
    "    vector = [i for i in range(n + 1)]\n",
    "    cond1 = n/4;\n",
    "    cond2 = 3*n/4;\n",
    "    for i in range(n):\n",
    "        if(vector[i] > cond1 and vector[i] < cond2):\n",
    "            vector[i] = 0\n",
    "    return vector;\n",
    "\n",
    "# n = 9 => [0, 1, 2, 3, 4, 5, 6, 7, 8, 9] => [0, 1, 2, 0, 0, 0, 0, 7, 8, 9]\n",
    "n = int(readInputNumber('n'));\n",
    "print(populateVectore(n));"
   ]
  },
  {
   "cell_type": "markdown",
   "id": "8bedf259-f62c-4bc3-8884-842798d51ead",
   "metadata": {},
   "source": [
    "### 18) Згенерувати вектор з n випадкових чисел від 0 до 99. Визначити кількість унікальних чисел в послідовності."
   ]
  },
  {
   "cell_type": "code",
   "execution_count": 102,
   "id": "4ea97c44-d3b0-4e45-b1f9-205e41e29b3d",
   "metadata": {},
   "outputs": [
    {
     "name": "stdin",
     "output_type": "stream",
     "text": [
      "Введіть ціле число n:  5\n"
     ]
    },
    {
     "name": "stdout",
     "output_type": "stream",
     "text": [
      "{'Послідовність': array([44, 66, 63,  7, 21]), 'Кількість унікальних чисел': 5}\n",
      "CPU times: total: 0 ns\n",
      "Wall time: 1.64 s\n"
     ]
    }
   ],
   "source": [
    "%%time\n",
    "# Спосіб реалізації за рахунок використання УНІВЕРСАЛЬНИХ ФУНКЦІЙ бібліотеки NumPy\n",
    "def generateVectore(n: int):\n",
    "    vector = np.random.randint(0, 99, n);\n",
    "    unique = np.unique(vector);\n",
    "    return {\n",
    "        'Послідовність': vector,\n",
    "        'Кількість унікальних чисел': len(unique)\n",
    "    };\n",
    "\n",
    "n = int(readInputNumber('n'));\n",
    "print(generateVectore(n));"
   ]
  },
  {
   "cell_type": "code",
   "execution_count": 103,
   "id": "d2599cbd-34d3-47a0-a6ed-1be3230bbfcb",
   "metadata": {},
   "outputs": [
    {
     "name": "stdin",
     "output_type": "stream",
     "text": [
      "Введіть ціле число n:  5\n"
     ]
    },
    {
     "name": "stdout",
     "output_type": "stream",
     "text": [
      "{'Послідовність': [11, 35, 74, 48, 11], 'Кількість унікальних чисел': 4}\n",
      "CPU times: total: 31.2 ms\n",
      "Wall time: 2.65 s\n"
     ]
    }
   ],
   "source": [
    "%%time\n",
    "import random\n",
    "# Спосіб реалізації за рахунок використання ІТЕРАТИВНИХ методів\n",
    "def generateVectore(n: int):\n",
    "    vector = [random.randint(0, 99) for _ in range(n)];\n",
    "    unique = set(vector);\n",
    "    return {\n",
    "        'Послідовність': vector,\n",
    "        'Кількість унікальних чисел': len(unique)\n",
    "    };\n",
    "\n",
    "n = int(readInputNumber('n'));\n",
    "print(generateVectore(n));"
   ]
  },
  {
   "cell_type": "markdown",
   "id": "c28f18c0-b4f8-46aa-98f9-61d0d128e69b",
   "metadata": {},
   "source": [
    "### 19) Згенерувати вектор із n елементів, які рівномірно розміщені на інтервалі (0, 1), тобто обидва кінці інтервалу не включені. Значення вивести до трьох знаків після коми."
   ]
  },
  {
   "cell_type": "code",
   "execution_count": 111,
   "id": "2406144a-d2b9-493e-aac6-ad07352a66a9",
   "metadata": {},
   "outputs": [
    {
     "name": "stdin",
     "output_type": "stream",
     "text": [
      "Введіть ціле число n:  10\n"
     ]
    },
    {
     "name": "stdout",
     "output_type": "stream",
     "text": [
      "[0.576 0.324 0.395 0.82  0.419 0.615 0.847 0.421 0.376 0.237]\n",
      "CPU times: total: 0 ns\n",
      "Wall time: 1.51 s\n"
     ]
    }
   ],
   "source": [
    "%%time\n",
    "%precision 3\n",
    "# Спосіб реалізації за рахунок використання УНІВЕРСАЛЬНИХ ФУНКЦІЙ бібліотеки NumPy\n",
    "def generateVectorRandom(n: int):\n",
    "    vector = np.random.random(n);\n",
    "    return vector;\n",
    "\n",
    "# n = 9 => [0, 1, 2, 3, 4, 5, 6, 7, 8, 9] => [0, 1, 2, 0, 0, 0, 0, 7, 8, 9]\n",
    "n = int(readInputNumber('n'));\n",
    "print(generateVectorRandom(n));"
   ]
  },
  {
   "cell_type": "code",
   "execution_count": 116,
   "id": "caa43105-dd6b-4875-a3fa-ef421306566c",
   "metadata": {},
   "outputs": [
    {
     "name": "stdin",
     "output_type": "stream",
     "text": [
      "Введіть ціле число n:  10\n"
     ]
    },
    {
     "name": "stdout",
     "output_type": "stream",
     "text": [
      "[0.869, 0.665, 0.366, 0.816, 0.759, 0.389, 0.733, 0.741, 0.182, 0.392]\n",
      "CPU times: total: 15.6 ms\n",
      "Wall time: 2.96 s\n"
     ]
    }
   ],
   "source": [
    "%%time\n",
    "%precision 3\n",
    "import random\n",
    "# Спосіб реалізації за рахунок використання ІТЕРАТИВНИХ методів\n",
    "def generateVectorRandom(n: int):\n",
    "    vector = [round(random.random(), 3) for _ in range(n)];\n",
    "    return vector;\n",
    "\n",
    "n = int(readInputNumber('n'));\n",
    "print(generateVectorRandom(n));"
   ]
  },
  {
   "cell_type": "markdown",
   "id": "f0c9efaf-c563-4bf8-830a-d09601314190",
   "metadata": {},
   "source": [
    "## Завдання №2"
   ]
  },
  {
   "cell_type": "markdown",
   "id": "68d414a7-c8b1-4135-9b22-3047fd0dceb6",
   "metadata": {},
   "source": [
    "### Розв'язати систему алгебраїчних рівнянь з використанням формул Крамера й виконати перевірку за допомогою:\n",
    "1) Матричного множення\n",
    "2) Оберненої матриці\n",
    "3) Функції `numpy.linalg.solve()`\n",
    "\n",
    "Порівняти всі рішення за допомогою функції `numpy.allclose()`"
   ]
  },
  {
   "cell_type": "markdown",
   "id": "a998aab3-027d-4212-9f92-e7c174ef64fb",
   "metadata": {},
   "source": [
    "\n",
    "\\begin{equation}\n",
    "\\begin{cases}\n",
    "    x_1 + 2x_2 + 3x_3 + 4x_4 &= 5 \\\\\n",
    "    2x_1 + x_2 + 2x_3 + 3x_4 &= 1 \\\\\n",
    "    3x_1 + 2x_2 + x_3 + 2x_4 &= 1 \\\\\n",
    "    4x_1 + 3x_2 + 2x_3 + x_4 &= -5\n",
    "\\end{cases}\n",
    "\\end{equation}\r"
   ]
  },
  {
   "cell_type": "code",
   "execution_count": 124,
   "id": "107c2b26-6c38-4e34-989b-92966cd21e32",
   "metadata": {},
   "outputs": [
    {
     "name": "stdout",
     "output_type": "stream",
     "text": [
      "Розв'язки за допомогою Крамера: [-2.0, 2.0, -3.0, 3.0]\n",
      "Розв'язки за допомогою матричного множення: [-2.  2. -3.  3.]\n",
      "Розв'язки за допомогою numpy.linalg.solve(): [-2.  2. -3.  3.]\n",
      "\n",
      "Порівняння Крамера і матричного множення: True\n",
      "Порівняння Крамера і numpy.linalg.solve(): True\n"
     ]
    }
   ],
   "source": [
    "# Задані коефіцієнти системи\n",
    "coefficients = [\n",
    "    [1, 2, 3, 4],\n",
    "    [2, 1, 2, 3],\n",
    "    [3, 2, 1, 2],\n",
    "    [4, 3, 2, 1]\n",
    "];\n",
    "constants = [5, 1, 1, -5];\n",
    "\n",
    "# Розв'язання за допомогою формул Крамера\n",
    "def solve_system_cramer(coefficients, constants):\n",
    "    main_determinant = np.linalg.det(coefficients)\n",
    "\n",
    "    if main_determinant == 0:\n",
    "        raise ValueError(\"Система рівнянь не має єдиного розв'язку.\")\n",
    "\n",
    "    solutions = []\n",
    "    for i in range(len(coefficients)):\n",
    "        modified_matrix = np.copy(coefficients)\n",
    "        modified_matrix[:, i] = constants\n",
    "        solutions.append(round((np.linalg.det(modified_matrix) / main_determinant), 3))\n",
    "\n",
    "    return solutions\n",
    "\n",
    "# Розв'язання за допомогою матричного множення\n",
    "def solve_system_matrix_multiplication(coefficients, constants):\n",
    "    inverse_matrix = np.linalg.inv(coefficients)\n",
    "    solutions = np.dot(inverse_matrix, constants)\n",
    "    return solutions\n",
    "\n",
    "# Розв'язання за допомогою функції numpy.linalg.solve()\n",
    "def solve_system_numpy(coefficients, constants):\n",
    "    solutions = np.linalg.solve(coefficients, constants)\n",
    "    return solutions\n",
    "\n",
    "# Розв'язки за допомогою різних методів\n",
    "cramer_solutions = solve_system_cramer(coefficients, constants)\n",
    "matrix_multiplication_solutions = solve_system_matrix_multiplication(coefficients, constants)\n",
    "numpy_solutions = solve_system_numpy(coefficients, constants)\n",
    "\n",
    "# Порівняння розв'язків за допомогою numpy.allclose()\n",
    "are_close_cramer_matrix = np.allclose(cramer_solutions, matrix_multiplication_solutions)\n",
    "are_close_cramer_numpy = np.allclose(cramer_solutions, numpy_solutions)\n",
    "\n",
    "# Вивід результатів\n",
    "print(\"Розв'язки за допомогою Крамера:\", cramer_solutions)\n",
    "print(\"Розв'язки за допомогою матричного множення:\", matrix_multiplication_solutions)\n",
    "print(\"Розв'язки за допомогою numpy.linalg.solve():\", numpy_solutions)\n",
    "\n",
    "# Вивід порівняння\n",
    "print(\"\\nПорівняння Крамера і матричного множення:\", are_close_cramer_matrix)\n",
    "print(\"Порівняння Крамера і numpy.linalg.solve():\", are_close_cramer_numpy)\n"
   ]
  },
  {
   "cell_type": "markdown",
   "id": "0f058cc7-90b4-40ab-a89f-5ae0c71b3f0f",
   "metadata": {},
   "source": [
    "## Завдання №3"
   ]
  },
  {
   "cell_type": "markdown",
   "id": "daf982bd-d428-4820-ac48-e40ae5bf3d2e",
   "metadata": {},
   "source": [
    "### Обчислити значення матричного виразу:\n",
    "1) З використанням універсальних функцій бібліотеки NumPy\n",
    "2) За допомогою ітеративних конструкцій (з використанням циклів, спискових включень тощо)\n",
    "3) Для обох випадків підрахувати час виконання скрипту та зробити висновки\n",
    "\n",
    "Порівняти всі рішення за допомогою функції `numpy.allclose()`"
   ]
  },
  {
   "cell_type": "markdown",
   "id": "49b8542d-252e-4e2c-b61f-fafa1763d9ce",
   "metadata": {},
   "source": [
    "\\begin{equation}\n",
    "    2(A - B)(A^{2} + B)\n",
    "\\end{equation}"
   ]
  },
  {
   "cell_type": "markdown",
   "id": "bb1ce7bc-2110-49b2-9473-694e956b9062",
   "metadata": {},
   "source": [
    "\n",
    "$$ A = \n",
    "\\begin{bmatrix}\n",
    "    5 & 1 & 7 \\\\\n",
    "    -10 & -2 & 1 \\\\\n",
    "    0 & 1 & 2 \\\\\n",
    "\\end{bmatrix}\n",
    "$$\n",
    "\n",
    "$$ B = \n",
    "\\begin{bmatrix}\n",
    "    2 & 4 & 1 \\\\\n",
    "    3 & 1 & 0 \\\\\n",
    "    7 & 2 & 1 \\\\\n",
    "\\end{bmatrix}\n",
    "$$"
   ]
  },
  {
   "cell_type": "code",
   "execution_count": 140,
   "id": "c9ad97a8-0186-4692-9f53-8f37c62b3a37",
   "metadata": {},
   "outputs": [],
   "source": [
    "# Define matrices A and B\n",
    "A = [[5, 1, 7], \n",
    "    [-10, -2, 1], \n",
    "    [0, 1, 2]]\n",
    "\n",
    "B = [[2, 4, 1], \n",
    "    [3, 1, 0], \n",
    "    [7, 2, 1]]"
   ]
  },
  {
   "cell_type": "code",
   "execution_count": 152,
   "id": "2e24f2eb-d1ee-4a97-aed8-7bf5f696b7b5",
   "metadata": {},
   "outputs": [
    {
     "name": "stdout",
     "output_type": "stream",
     "text": [
      "Result using NumPy:\n",
      " [[  162   -30   600]\n",
      " [-2678   -30     2]\n",
      " [  -98    -6    10]]\n",
      "CPU times: total: 0 ns\n",
      "Wall time: 993 µs\n"
     ]
    }
   ],
   "source": [
    "%%time\n",
    "# NumPy approach using universal functions\n",
    "def compute_expression_numpy(A, B):\n",
    "    A = np.array(A)\n",
    "    B = np.array(B)\n",
    "    return 2 * np.multiply(np.subtract(A, B), np.add(np.square(A), B))\n",
    "\n",
    "result_numpy = compute_expression_numpy(A, B)\n",
    "print(\"Result using NumPy:\\n\", result_numpy)"
   ]
  },
  {
   "cell_type": "code",
   "execution_count": 154,
   "id": "e7150919-5ce2-4c2c-b6ac-93f5b4d28ec5",
   "metadata": {},
   "outputs": [
    {
     "name": "stdout",
     "output_type": "stream",
     "text": [
      "\n",
      "Result using Iterative approach:\n",
      "[162, -30, 600]\n",
      "[-2678, -30, 2]\n",
      "[-98, -6, 10]\n",
      "CPU times: total: 0 ns\n",
      "Wall time: 998 µs\n"
     ]
    }
   ],
   "source": [
    "%%time\n",
    "# Iterative approach\n",
    "def compute_expression_iterative(A, B):\n",
    "    rows, cols = len(A), len(A[0])\n",
    "    result = [[0] * cols for _ in range(rows)]\n",
    "    \n",
    "    for i in range(rows):\n",
    "        for j in range(cols):\n",
    "            result[i][j] = 2 * (A[i][j] - B[i][j]) * (A[i][j]**2 + B[i][j])\n",
    "            \n",
    "    return result\n",
    "\n",
    "result_iterative = compute_expression_iterative(A.tolist(), B.tolist())\n",
    "print(\"\\nResult using Iterative approach:\\n\", end='')\n",
    "print_matrix(result_iterative)"
   ]
  },
  {
   "cell_type": "code",
   "execution_count": 157,
   "id": "a00a0431-8c37-4f50-bdf5-b96def61ceb0",
   "metadata": {},
   "outputs": [
    {
     "name": "stdout",
     "output_type": "stream",
     "text": [
      "Comparizon of the solutions NumPy vs Iterative: True\n"
     ]
    }
   ],
   "source": [
    "comparison = np.allclose(result_numpy, result_iterative)\n",
    "print('Comparizon of the solutions NumPy vs Iterative: ', end='')\n",
    "print(comparison);"
   ]
  },
  {
   "cell_type": "code",
   "execution_count": null,
   "id": "ab8dc159-8f0b-4731-b4af-c54b1212fbee",
   "metadata": {},
   "outputs": [],
   "source": []
  }
 ],
 "metadata": {
  "kernelspec": {
   "display_name": "Python 3 (ipykernel)",
   "language": "python",
   "name": "python3"
  },
  "language_info": {
   "codemirror_mode": {
    "name": "ipython",
    "version": 3
   },
   "file_extension": ".py",
   "mimetype": "text/x-python",
   "name": "python",
   "nbconvert_exporter": "python",
   "pygments_lexer": "ipython3",
   "version": "3.11.7"
  }
 },
 "nbformat": 4,
 "nbformat_minor": 5
}
